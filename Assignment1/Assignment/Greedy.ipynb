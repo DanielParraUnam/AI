{
 "cells": [
  {
   "cell_type": "code",
   "execution_count": 1,
   "metadata": {},
   "outputs": [],
   "source": [
    "#!/usr/bin/env python3\n",
    "import sys\n",
    "from maze import Maze, Room\n",
    "from fringe import Fringe\n",
    "from state import State"
   ]
  },
  {
   "cell_type": "code",
   "execution_count": 9,
   "metadata": {},
   "outputs": [],
   "source": [
    "def Greedy(maze):\n",
    "\n",
    "    fr = Fringe(\"PRIO\")\n",
    "    \n",
    "    room = maze.getRoom(*maze.getStart())\n",
    "    state = State(room, None)\n",
    "    state.setPrio(room.getHeuristicValue())\n",
    "\n",
    "    fr.push(state)\n",
    "    path = []\n",
    "    visited = set()\n",
    "\n",
    "    while not fr.isEmpty():\n",
    "    \n",
    "        while True:\n",
    "            state = fr.pop()\n",
    "            room = state.getRoom()\n",
    "            if room.getCoords() not in visited: break\n",
    "\n",
    "        path.append(room.getCoords())\n",
    "        visited.add(room.getCoords())\n",
    "\n",
    "        if room.isGoal():\n",
    "            print(\"solved\")\n",
    "            fr.printStats()\n",
    "            state.printPath()\n",
    "            maze.printMazeWithPath(state)\n",
    "            return path\n",
    "\n",
    "        # loop through every possible move\n",
    "        for d in room.getConnections():\n",
    "            # get new room after move and cost to get there\n",
    "            newRoom, cost = room.makeMove(d, state.getCost())\n",
    "            # if it is an unvisited room\n",
    "            if newRoom.getCoords() not in visited:\n",
    "                newState = State(newRoom, state, cost)\n",
    "                newState.setPrio(newRoom.getHeuristicValue())\n",
    "                fr.push(newState)\n",
    "\n",
    "    print(\"not solved\")\n",
    "    fr.printStats()\n",
    "\n",
    "    return path\n"
   ]
  },
  {
   "cell_type": "code",
   "execution_count": 10,
   "metadata": {},
   "outputs": [],
   "source": [
    "maze = Maze(\"greedy_astar.maze\")\n",
    "room = maze.getRoom(*maze.getStart())\n",
    "state = State(room, None)"
   ]
  },
  {
   "cell_type": "code",
   "execution_count": 11,
   "metadata": {},
   "outputs": [
    {
     "data": {
      "text/plain": [
       "0"
      ]
     },
     "execution_count": 11,
     "metadata": {},
     "output_type": "execute_result"
    }
   ],
   "source": [
    "state.fuckoff"
   ]
  },
  {
   "cell_type": "code",
   "execution_count": 12,
   "metadata": {},
   "outputs": [
    {
     "data": {
      "text/plain": [
       "'/Users/danielparraverde/Documents/RUG Semester/ArtificialInteligence/Assignment1/Assignment'"
      ]
     },
     "execution_count": 12,
     "metadata": {},
     "output_type": "execute_result"
    }
   ],
   "source": [
    "pwd"
   ]
  },
  {
   "cell_type": "code",
   "execution_count": 13,
   "metadata": {},
   "outputs": [
    {
     "name": "stdout",
     "output_type": "stream",
     "text": [
      "solved\n",
      "#### fringe statistics:\n",
      "size:               8\n",
      "maximum size:       9\n",
      "insertions:        18\n",
      "deletions:         10\n",
      "(0, 3, 0) -> (0, 2, 0) cost: 1\n",
      "(0, 2, 0) -> (0, 1, 0) cost: 2\n",
      "(0, 1, 0) -> (0, 0, 0) cost: 3\n",
      "(0, 0, 0) -> (1, 0, 0) cost: 4\n",
      "(1, 0, 0) -> (2, 0, 0) cost: 5\n",
      "(2, 0, 0) -> (3, 0, 0) cost: 6\n",
      "(3, 0, 0) -> (3, 1, 0) cost: 7\n",
      "(3, 1, 0) -> (3, 1, 1) cost: 10\n",
      "(3, 1, 1) -> (3, 0, 1) cost: 11\n",
      "\n",
      "Width: 4 \n",
      "Height: 4 \n",
      "Floors: 2\n",
      "\n",
      "Floor #1\n",
      "|-------|-------|-------|-------|\n",
      "| 3     - 2     - 1     - 0   11|\n",
      "|                           G   |\n",
      "|       -       -       -   ^   |\n",
      "|--| |--|--| |--|--| |--|--|^|--|\n",
      "| 3     - 3     - 2     - 1 ^ 10|\n",
      "|                           o D |\n",
      "|       -       -       -       |\n",
      "|--| |--|-------|-------|--| |--|\n",
      "| 5     - 4     - 3     - 2     |\n",
      "|                               |\n",
      "|       -       -       -       |\n",
      "|--| |--|--| |--|--| |--|--| |--|\n",
      "| 6     - 5     - 4     - 3     |\n",
      "|                               |\n",
      "|       -       -       -       |\n",
      "|-------|-------|-------|-------|\n",
      "\n",
      "Floor #0\n",
      "|-------|-------|-------|-------|\n",
      "| 4    3- 3    4- 2    5- 1    6|\n",
      "|    > > > > > > > > > > > >    |\n",
      "|   ^   -       -       -   v   |\n",
      "|--|^|--|--| |--|--| |--|--|v|--|\n",
      "| 5 ^  2- 4     | 3     - 2 v  7|\n",
      "|               |         U o   |\n",
      "|   ^   -       |       -       |\n",
      "|--|^|--|--| |--|--| |--|--| |--|\n",
      "| 6 ^  1| 5     - 4     - 3     |\n",
      "|       |                       |\n",
      "|   ^   |       -       -       |\n",
      "|--|^|--|--| |--|--| |--|--| |--|\n",
      "| 7 ^   - 7     - 5     - 4     |\n",
      "|   X                           |\n",
      "|       -       -       -       |\n",
      "|-------|-------|-------|-------|\n"
     ]
    },
    {
     "data": {
      "text/plain": [
       "[(0, 3, 0),\n",
       " (0, 2, 0),\n",
       " (0, 1, 0),\n",
       " (0, 0, 0),\n",
       " (1, 0, 0),\n",
       " (2, 0, 0),\n",
       " (3, 0, 0),\n",
       " (3, 1, 0),\n",
       " (3, 1, 1),\n",
       " (3, 0, 1)]"
      ]
     },
     "execution_count": 13,
     "metadata": {},
     "output_type": "execute_result"
    }
   ],
   "source": [
    "Greedy(maze)"
   ]
  },
  {
   "cell_type": "code",
   "execution_count": 14,
   "metadata": {},
   "outputs": [],
   "source": [
    "def Astar(maze):\n",
    "\n",
    "    fr = Fringe(\"PRIO\")\n",
    "    \n",
    "    room = maze.getRoom(*maze.getStart())\n",
    "    state = State(room, None)\n",
    "    state.setPrio(room.getHeuristicValue() + state.getCost())\n",
    "\n",
    "    fr.push(state)\n",
    "    path = []\n",
    "    visited = set()\n",
    "\n",
    "    while not fr.isEmpty():\n",
    "    \n",
    "        while True:\n",
    "            state = fr.pop()\n",
    "            room = state.getRoom()\n",
    "            if room.getCoords() not in visited: break\n",
    "\n",
    "        path.append(room.getCoords())\n",
    "        visited.add(room.getCoords())\n",
    "\n",
    "        if room.isGoal():\n",
    "            print(\"solved\")\n",
    "            fr.printStats()\n",
    "            state.printPath()\n",
    "            maze.printMazeWithPath(state)\n",
    "            return path\n",
    "\n",
    "        # loop through every possible move\n",
    "        for d in room.getConnections():\n",
    "            # get new room after move and cost to get there\n",
    "            newRoom, cost = room.makeMove(d, state.getCost())\n",
    "            # if it is an unvisited room\n",
    "            if newRoom.getCoords() not in visited:\n",
    "                newState = State(newRoom, state, cost)\n",
    "                newState.setPrio(newRoom.getHeuristicValue() + state.getCost())\n",
    "                fr.push(newState)\n",
    "\n",
    "    print(\"not solved\")\n",
    "    fr.printStats()\n",
    "\n",
    "    return path"
   ]
  },
  {
   "cell_type": "code",
   "execution_count": 15,
   "metadata": {},
   "outputs": [
    {
     "name": "stdout",
     "output_type": "stream",
     "text": [
      "solved\n",
      "#### fringe statistics:\n",
      "size:               3\n",
      "maximum size:       7\n",
      "insertions:        27\n",
      "deletions:         24\n",
      "(0, 3, 0) -> (1, 3, 0) cost: 1\n",
      "(1, 3, 0) -> (1, 2, 0) cost: 2\n",
      "(1, 2, 0) -> (2, 2, 0) cost: 3\n",
      "(2, 2, 0) -> (2, 1, 0) cost: 4\n",
      "(2, 1, 0) -> (3, 1, 0) cost: 5\n",
      "(3, 1, 0) -> (3, 1, 1) cost: 8\n",
      "(3, 1, 1) -> (3, 0, 1) cost: 9\n",
      "\n",
      "Width: 4 \n",
      "Height: 4 \n",
      "Floors: 2\n",
      "\n",
      "Floor #1\n",
      "|-------|-------|-------|-------|\n",
      "| 3     - 2     - 1     - 0    9|\n",
      "|                           G   |\n",
      "|       -       -       -   ^   |\n",
      "|--| |--|--| |--|--| |--|--|^|--|\n",
      "| 3     - 3     - 2     - 1 ^  8|\n",
      "|                           o D |\n",
      "|       -       -       -       |\n",
      "|--| |--|-------|-------|--| |--|\n",
      "| 5     - 4     - 3     - 2     |\n",
      "|                               |\n",
      "|       -       -       -       |\n",
      "|--| |--|--| |--|--| |--|--| |--|\n",
      "| 6     - 5     - 4     - 3     |\n",
      "|                               |\n",
      "|       -       -       -       |\n",
      "|-------|-------|-------|-------|\n",
      "\n",
      "Floor #0\n",
      "|-------|-------|-------|-------|\n",
      "| 4     - 3     - 2     - 1     |\n",
      "|                               |\n",
      "|       -       -       -       |\n",
      "|--| |--|--| |--|--| |--|--| |--|\n",
      "| 5     - 4     | 3    4- 2    5|\n",
      "|               |    > > >U>o   |\n",
      "|       -       |   ^   -       |\n",
      "|--| |--|--| |--|--|^|--|--| |--|\n",
      "| 6     | 5    2- 4 ^  3- 3     |\n",
      "|       |    > > > >            |\n",
      "|       |   ^   -       -       |\n",
      "|--| |--|--|^|--|--| |--|--| |--|\n",
      "| 7     - 7 ^  1- 5     - 4     |\n",
      "|   X> > > >                    |\n",
      "|       -       -       -       |\n",
      "|-------|-------|-------|-------|\n"
     ]
    },
    {
     "data": {
      "text/plain": [
       "[(0, 3, 0),\n",
       " (0, 2, 0),\n",
       " (0, 1, 0),\n",
       " (0, 0, 0),\n",
       " (1, 1, 0),\n",
       " (1, 0, 0),\n",
       " (2, 0, 0),\n",
       " (3, 0, 0),\n",
       " (1, 3, 0),\n",
       " (1, 2, 0),\n",
       " (2, 3, 0),\n",
       " (2, 2, 0),\n",
       " (3, 3, 0),\n",
       " (2, 1, 0),\n",
       " (3, 2, 0),\n",
       " (3, 1, 0),\n",
       " (3, 1, 1),\n",
       " (3, 0, 1)]"
      ]
     },
     "execution_count": 15,
     "metadata": {},
     "output_type": "execute_result"
    }
   ],
   "source": [
    "Astar(maze)"
   ]
  },
  {
   "cell_type": "code",
   "execution_count": null,
   "metadata": {},
   "outputs": [],
   "source": []
  },
  {
   "cell_type": "code",
   "execution_count": null,
   "metadata": {},
   "outputs": [],
   "source": []
  },
  {
   "cell_type": "code",
   "execution_count": null,
   "metadata": {},
   "outputs": [],
   "source": []
  },
  {
   "cell_type": "code",
   "execution_count": null,
   "metadata": {},
   "outputs": [],
   "source": []
  },
  {
   "cell_type": "code",
   "execution_count": null,
   "metadata": {},
   "outputs": [],
   "source": []
  },
  {
   "cell_type": "code",
   "execution_count": null,
   "metadata": {},
   "outputs": [],
   "source": []
  }
 ],
 "metadata": {
  "kernelspec": {
   "display_name": "Python 3",
   "language": "python",
   "name": "python3"
  },
  "language_info": {
   "codemirror_mode": {
    "name": "ipython",
    "version": 3
   },
   "file_extension": ".py",
   "mimetype": "text/x-python",
   "name": "python",
   "nbconvert_exporter": "python",
   "pygments_lexer": "ipython3",
   "version": "3.6.5"
  }
 },
 "nbformat": 4,
 "nbformat_minor": 2
}
