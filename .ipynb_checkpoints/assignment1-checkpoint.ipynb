{
 "cells": [
  {
   "cell_type": "code",
   "execution_count": 183,
   "metadata": {},
   "outputs": [],
   "source": [
    "maze = {1: {'E'}, \n",
    "        2: {'N', 'W'}, \n",
    "        3: {'E', 'N'}, \n",
    "        4: {'N', 'W'}, \n",
    "        5: {'E', 'N'},\n",
    "        6: {'S', 'W', 'E'}, \n",
    "        7: {'S', 'W'}, \n",
    "        8: {'S', 'N'}, \n",
    "        9: {'S', 'N'}, \n",
    "        10: {'N'},\n",
    "        11: {'N', 'E'}, \n",
    "        12: {'S', 'W'}, \n",
    "        13: {'S', 'E'}, \n",
    "        14: {'S', 'W'}, \n",
    "        15: {'S', 'E'},\n",
    "        16: {'W'}\n",
    "        }"
   ]
  },
  {
   "cell_type": "code",
   "execution_count": 15,
   "metadata": {},
   "outputs": [],
   "source": [
    "def allowedMove(loc, move):\n",
    "    # maze: dict of possible moves per node\n",
    "    # loc: integer label of current node\n",
    "    # move: ['W','S','E','N']\n",
    "    return (move in maze[loc])"
   ]
  },
  {
   "cell_type": "code",
   "execution_count": 154,
   "metadata": {},
   "outputs": [],
   "source": [
    "def neighbour(maze, loc, move):\n",
    "    # maze: dict of possible moves per node\n",
    "    # loc: integer label of current node\n",
    "    # move: ['W','S','E','N']\n",
    "    if move == 'N':\n",
    "        res = loc + 4\n",
    "    if move == 'S':\n",
    "        res = loc - 4\n",
    "    if move == 'E':\n",
    "        res = loc + 1\n",
    "    if move == 'W':   \n",
    "        res = loc - 1        \n",
    "    if res > 0 and res < 17: return res\n",
    "    return loc"
   ]
  },
  {
   "cell_type": "code",
   "execution_count": 193,
   "metadata": {},
   "outputs": [],
   "source": [
    "def openMazeDFS(maze, start, goal, M = 16):\n",
    "    stack = []\n",
    "    stack.append(start)\n",
    "    path = []\n",
    "    i = 0;\n",
    "    while len(stack) > 0 :\n",
    "        loc = stack.pop()\n",
    "        path.append(loc)\n",
    "        if loc == goal:\n",
    "            print('Goal found')\n",
    "            return path\n",
    "        for move in ['W','S','E','N']:\n",
    "            if allowedMove(loc, move):\n",
    "                stack.append(neighbour(maze, loc, move))\n",
    "        i = i + 1\n",
    "        if i > M: \n",
    "            print(\"Error\")\n",
    "            return path\n",
    "    print (\"Goal not found\")"
   ]
  },
  {
   "cell_type": "code",
   "execution_count": 194,
   "metadata": {},
   "outputs": [
    {
     "name": "stdout",
     "output_type": "stream",
     "text": [
      "Error\n"
     ]
    },
    {
     "data": {
      "text/plain": [
       "17"
      ]
     },
     "execution_count": 194,
     "metadata": {},
     "output_type": "execute_result"
    }
   ],
   "source": [
    "len(openMazeDFS(maze, 1, 15))"
   ]
  },
  {
   "cell_type": "code",
   "execution_count": 195,
   "metadata": {},
   "outputs": [],
   "source": [
    "def closedMazeDFS(maze, start, goal, order = ['W','S','E','N']):\n",
    "    stack = []\n",
    "    stack.append(start)\n",
    "    visited = set()\n",
    "    order.reverse()\n",
    "    path = []\n",
    "    while len(stack) > 0 :\n",
    "        loc = stack.pop()\n",
    "        visited.add(loc)\n",
    "        path.append(loc)\n",
    "        if loc == goal:\n",
    "            print('Goal found')\n",
    "            return path\n",
    "        for move in order:\n",
    "            if allowedMove(loc, move):\n",
    "                temp = neighbour(maze, loc, move)\n",
    "                if temp not in visited:\n",
    "                    stack.append(temp)\n",
    "    print (\"Goal not found\")\n",
    "    return path"
   ]
  },
  {
   "cell_type": "code",
   "execution_count": 197,
   "metadata": {},
   "outputs": [
    {
     "name": "stdout",
     "output_type": "stream",
     "text": [
      "Goal found\n"
     ]
    },
    {
     "data": {
      "text/plain": [
       "15"
      ]
     },
     "execution_count": 197,
     "metadata": {},
     "output_type": "execute_result"
    }
   ],
   "source": [
    "len(closedMazeDFS(maze, 1, 15, order = ['N','S','W','E']))"
   ]
  },
  {
   "cell_type": "code",
   "execution_count": 174,
   "metadata": {},
   "outputs": [],
   "source": [
    "def openMazeBFS(maze, start, goal):\n",
    "    queue = []\n",
    "    queue.append(start)\n",
    "    path = []\n",
    "    while len(queue) > 0 :\n",
    "        loc = queue.pop(0)\n",
    "        path.append(loc)\n",
    "        if loc == goal:\n",
    "            print('Goal found')\n",
    "            return path\n",
    "        for move in ['W','S','E','N']:\n",
    "            if allowedMove(loc, move):\n",
    "                queue.append(neighbour(maze, loc, move))\n",
    "    print (\"Goal not found\")\n",
    "    return path"
   ]
  },
  {
   "cell_type": "code",
   "execution_count": 191,
   "metadata": {},
   "outputs": [
    {
     "name": "stdout",
     "output_type": "stream",
     "text": [
      "Goal found\n"
     ]
    },
    {
     "data": {
      "text/plain": [
       "660"
      ]
     },
     "execution_count": 191,
     "metadata": {},
     "output_type": "execute_result"
    }
   ],
   "source": [
    "len(openMazeBFS(maze, 1, 15))"
   ]
  },
  {
   "cell_type": "code",
   "execution_count": 170,
   "metadata": {},
   "outputs": [],
   "source": [
    "def closedMazeBFS(maze, start, goal):\n",
    "    queue = []\n",
    "    queue.append(start)\n",
    "    visited = set()\n",
    "    path = []\n",
    "    while len(queue) > 0 :\n",
    "        loc = queue.pop(0)\n",
    "        visited.add(loc)\n",
    "        path.append(loc)\n",
    "        if loc == goal:\n",
    "            print('Goal found')\n",
    "            return path\n",
    "        for move in ['W','S','E','N']:\n",
    "            temp = neighbour(maze, loc, move)\n",
    "            if temp not in visited:\n",
    "               queue.append(temp)\n",
    "    print (\"Goal not found\")\n",
    "    return path"
   ]
  },
  {
   "cell_type": "code",
   "execution_count": 189,
   "metadata": {},
   "outputs": [
    {
     "name": "stdout",
     "output_type": "stream",
     "text": [
      "Goal found\n"
     ]
    },
    {
     "data": {
      "text/plain": [
       "38"
      ]
     },
     "execution_count": 189,
     "metadata": {},
     "output_type": "execute_result"
    }
   ],
   "source": [
    "len(closedMazeBFS(maze, 1, 15))"
   ]
  },
  {
   "cell_type": "code",
   "execution_count": null,
   "metadata": {},
   "outputs": [],
   "source": []
  }
 ],
 "metadata": {
  "kernelspec": {
   "display_name": "Python 3",
   "language": "python",
   "name": "python3"
  },
  "language_info": {
   "codemirror_mode": {
    "name": "ipython",
    "version": 3
   },
   "file_extension": ".py",
   "mimetype": "text/x-python",
   "name": "python",
   "nbconvert_exporter": "python",
   "pygments_lexer": "ipython3",
   "version": "3.6.5"
  }
 },
 "nbformat": 4,
 "nbformat_minor": 2
}
